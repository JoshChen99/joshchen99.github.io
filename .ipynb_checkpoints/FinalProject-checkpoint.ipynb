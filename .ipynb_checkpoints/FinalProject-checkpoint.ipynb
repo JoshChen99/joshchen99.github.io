{
 "cells": [
  {
   "cell_type": "markdown",
   "metadata": {},
   "source": [
    "# Finding the Next World-Class Soccer Players"
   ]
  },
  {
   "cell_type": "markdown",
   "metadata": {},
   "source": [
    "#### Joshua Chen"
   ]
  },
  {
   "cell_type": "markdown",
   "metadata": {},
   "source": [
    "<img src = \"background.jpg\" style=\"width: 300px;\">\n",
    "image from https://wallpaperbro.com/liverpool-players-phone"
   ]
  },
  {
   "cell_type": "markdown",
   "metadata": {},
   "source": [
    "## Introduction"
   ]
  },
  {
   "cell_type": "markdown",
   "metadata": {},
   "source": [
    "Ever since I was little, I've followed sports. Collecting cards, reading up on the news and watching many games as most kids do. And one thing that is constantly discussed in sports is the data, especially more so in recent years as technology and models have advanced. The prime example being the infamous Moneyball A's. But in recent years, if you read many sports articles, they always mention statistics and data. For example, the 2017 Superbowl between the Patriots and the Falcons where the Patriots came back from a .02% chance of winning (according the ESPN's win-probability graph). The models and statistics and unlikelihood of the comeback were talked about for months, especially in the highly data driven NFL, where every play can be broken down and analyzed thoroughly. The same can be said for basketball, baseball, and tennis. But one sport where this fails is soccer.\n",
    "\n",
    "Soccer has been the \"problem child\" of sports data science as the game was always considered too complicated and too fluid to be analyzed. Many managers and coaches relied on instinct and feel for the game and still rely on these traits. But slowly over time, this has been changing. I'm a huge Liverpool fan and earlier in the year read an article about how Liverpool has gone from mediocre over the past few years to completely dominant with the help of their analytics department (https://www.nytimes.com/2019/05/22/magazine/soccer-data-liverpool.html). Many of Liverpool's world-class bargain signings came from their analysis of the data and statistics that people can't see. \n",
    "\n",
    "This is the inspiration and the idea behind this tutorial. Can a model be created to predict which players will become world-class players? In this tutorial, I'll be taking data from FIFA's assessment of players over the past 5 years and create a model to try to predict player's current level of play. I'll compare my model with FIFA's most recent assessment as well as the player's current in-game form. I hope that this tutorial show fans that data can be used to help assess players and perhaps get the more data-driven people who aren't soccer fans to look into cracking one of the hardest sports to analyze through data."
   ]
  },
  {
   "cell_type": "markdown",
   "metadata": {},
   "source": [
    "### Set-up"
   ]
  },
  {
   "cell_type": "markdown",
   "metadata": {},
   "source": [
    "To start we will be using different libraries to help us retrieve, visualize and analyze the data. To name a few, we will be using Pandas and Numpy to help process the data. Matplotlib and Seaborn will be used to visualize the data and Scikit will be used to help create our model and test our model."
   ]
  },
  {
   "cell_type": "code",
   "execution_count": 288,
   "metadata": {},
   "outputs": [],
   "source": [
    "import pandas as pd\n",
    "import matplotlib.pyplot as plt\n",
    "import seaborn as sns\n",
    "import numpy as np"
   ]
  },
  {
   "cell_type": "markdown",
   "metadata": {},
   "source": [
    "## Getting the Data:"
   ]
  },
  {
   "cell_type": "markdown",
   "metadata": {},
   "source": [
    "The first step will be to retrieve our data and to process it in a way that it can be used for our model. As stated before, in this tutorial we will be using the FIFA rating data which can be found <a href = \"https://www.kaggle.com/stefanoleone992/fifa-20-complete-player-dataset\"> here. </a>\n",
    "\n",
    "I decided to use this data as it is a very comprehensive list of players and one of the most easily obtainable. It provides similar metrics over the last few years as FIFA hasn't changed the metrics it collects on players. Another reason is that data for soccer isn't that readily available. Most data is collected by individuals who want to mess with it and can be found via Twitter graphs or is super expensive and professional (<a href = \"https://www.optasports.com/\">Opta</a> being on of the only distributors). Thus, I settled for the best I could do which is this FIFA data."
   ]
  },
  {
   "cell_type": "markdown",
   "metadata": {},
   "source": [
    "### Data Wrangling"
   ]
  },
  {
   "cell_type": "markdown",
   "metadata": {},
   "source": [
    "The following pieces of data are stored in the Github repository which can be found here."
   ]
  },
  {
   "cell_type": "code",
   "execution_count": 289,
   "metadata": {},
   "outputs": [
    {
     "data": {
      "text/html": [
       "<div>\n",
       "<style scoped>\n",
       "    .dataframe tbody tr th:only-of-type {\n",
       "        vertical-align: middle;\n",
       "    }\n",
       "\n",
       "    .dataframe tbody tr th {\n",
       "        vertical-align: top;\n",
       "    }\n",
       "\n",
       "    .dataframe thead th {\n",
       "        text-align: right;\n",
       "    }\n",
       "</style>\n",
       "<table border=\"1\" class=\"dataframe\">\n",
       "  <thead>\n",
       "    <tr style=\"text-align: right;\">\n",
       "      <th></th>\n",
       "      <th>sofifa_id</th>\n",
       "      <th>player_url</th>\n",
       "      <th>short_name</th>\n",
       "      <th>long_name</th>\n",
       "      <th>age</th>\n",
       "      <th>dob</th>\n",
       "      <th>height_cm</th>\n",
       "      <th>weight_kg</th>\n",
       "      <th>nationality</th>\n",
       "      <th>club</th>\n",
       "      <th>...</th>\n",
       "      <th>lwb</th>\n",
       "      <th>ldm</th>\n",
       "      <th>cdm</th>\n",
       "      <th>rdm</th>\n",
       "      <th>rwb</th>\n",
       "      <th>lb</th>\n",
       "      <th>lcb</th>\n",
       "      <th>cb</th>\n",
       "      <th>rcb</th>\n",
       "      <th>rb</th>\n",
       "    </tr>\n",
       "  </thead>\n",
       "  <tbody>\n",
       "    <tr>\n",
       "      <td>0</td>\n",
       "      <td>158023</td>\n",
       "      <td>https://sofifa.com/player/158023/lionel-messi/...</td>\n",
       "      <td>L. Messi</td>\n",
       "      <td>Lionel Andrés Messi Cuccittini</td>\n",
       "      <td>27</td>\n",
       "      <td>1987-06-24</td>\n",
       "      <td>169</td>\n",
       "      <td>67</td>\n",
       "      <td>Argentina</td>\n",
       "      <td>FC Barcelona</td>\n",
       "      <td>...</td>\n",
       "      <td>62+3</td>\n",
       "      <td>62+3</td>\n",
       "      <td>62+3</td>\n",
       "      <td>62+3</td>\n",
       "      <td>62+3</td>\n",
       "      <td>54+3</td>\n",
       "      <td>45+3</td>\n",
       "      <td>45+3</td>\n",
       "      <td>45+3</td>\n",
       "      <td>54+3</td>\n",
       "    </tr>\n",
       "    <tr>\n",
       "      <td>1</td>\n",
       "      <td>20801</td>\n",
       "      <td>https://sofifa.com/player/20801/c-ronaldo-dos-...</td>\n",
       "      <td>Cristiano Ronaldo</td>\n",
       "      <td>Cristiano Ronaldo dos Santos Aveiro</td>\n",
       "      <td>29</td>\n",
       "      <td>1985-02-05</td>\n",
       "      <td>185</td>\n",
       "      <td>80</td>\n",
       "      <td>Portugal</td>\n",
       "      <td>Real Madrid</td>\n",
       "      <td>...</td>\n",
       "      <td>63+3</td>\n",
       "      <td>63+3</td>\n",
       "      <td>63+3</td>\n",
       "      <td>63+3</td>\n",
       "      <td>63+3</td>\n",
       "      <td>57+3</td>\n",
       "      <td>52+3</td>\n",
       "      <td>52+3</td>\n",
       "      <td>52+3</td>\n",
       "      <td>57+3</td>\n",
       "    </tr>\n",
       "    <tr>\n",
       "      <td>2</td>\n",
       "      <td>9014</td>\n",
       "      <td>https://sofifa.com/player/9014/arjen-robben/15...</td>\n",
       "      <td>A. Robben</td>\n",
       "      <td>Arjen Robben</td>\n",
       "      <td>30</td>\n",
       "      <td>1984-01-23</td>\n",
       "      <td>180</td>\n",
       "      <td>80</td>\n",
       "      <td>Netherlands</td>\n",
       "      <td>FC Bayern München</td>\n",
       "      <td>...</td>\n",
       "      <td>64+3</td>\n",
       "      <td>64+3</td>\n",
       "      <td>64+3</td>\n",
       "      <td>64+3</td>\n",
       "      <td>64+3</td>\n",
       "      <td>55+3</td>\n",
       "      <td>46+3</td>\n",
       "      <td>46+3</td>\n",
       "      <td>46+3</td>\n",
       "      <td>55+3</td>\n",
       "    </tr>\n",
       "    <tr>\n",
       "      <td>3</td>\n",
       "      <td>41236</td>\n",
       "      <td>https://sofifa.com/player/41236/zlatan-ibrahim...</td>\n",
       "      <td>Z. Ibrahimović</td>\n",
       "      <td>Zlatan Ibrahimović</td>\n",
       "      <td>32</td>\n",
       "      <td>1981-10-03</td>\n",
       "      <td>195</td>\n",
       "      <td>95</td>\n",
       "      <td>Sweden</td>\n",
       "      <td>Paris Saint-Germain</td>\n",
       "      <td>...</td>\n",
       "      <td>61+3</td>\n",
       "      <td>65+3</td>\n",
       "      <td>65+3</td>\n",
       "      <td>65+3</td>\n",
       "      <td>61+3</td>\n",
       "      <td>56+3</td>\n",
       "      <td>55+3</td>\n",
       "      <td>55+3</td>\n",
       "      <td>55+3</td>\n",
       "      <td>56+3</td>\n",
       "    </tr>\n",
       "    <tr>\n",
       "      <td>4</td>\n",
       "      <td>167495</td>\n",
       "      <td>https://sofifa.com/player/167495/manuel-neuer/...</td>\n",
       "      <td>M. Neuer</td>\n",
       "      <td>Manuel Neuer</td>\n",
       "      <td>28</td>\n",
       "      <td>1986-03-27</td>\n",
       "      <td>193</td>\n",
       "      <td>92</td>\n",
       "      <td>Germany</td>\n",
       "      <td>FC Bayern München</td>\n",
       "      <td>...</td>\n",
       "      <td>NaN</td>\n",
       "      <td>NaN</td>\n",
       "      <td>NaN</td>\n",
       "      <td>NaN</td>\n",
       "      <td>NaN</td>\n",
       "      <td>NaN</td>\n",
       "      <td>NaN</td>\n",
       "      <td>NaN</td>\n",
       "      <td>NaN</td>\n",
       "      <td>NaN</td>\n",
       "    </tr>\n",
       "  </tbody>\n",
       "</table>\n",
       "<p>5 rows × 104 columns</p>\n",
       "</div>"
      ],
      "text/plain": [
       "   sofifa_id                                         player_url  \\\n",
       "0     158023  https://sofifa.com/player/158023/lionel-messi/...   \n",
       "1      20801  https://sofifa.com/player/20801/c-ronaldo-dos-...   \n",
       "2       9014  https://sofifa.com/player/9014/arjen-robben/15...   \n",
       "3      41236  https://sofifa.com/player/41236/zlatan-ibrahim...   \n",
       "4     167495  https://sofifa.com/player/167495/manuel-neuer/...   \n",
       "\n",
       "          short_name                            long_name  age         dob  \\\n",
       "0           L. Messi       Lionel Andrés Messi Cuccittini   27  1987-06-24   \n",
       "1  Cristiano Ronaldo  Cristiano Ronaldo dos Santos Aveiro   29  1985-02-05   \n",
       "2          A. Robben                         Arjen Robben   30  1984-01-23   \n",
       "3     Z. Ibrahimović                   Zlatan Ibrahimović   32  1981-10-03   \n",
       "4           M. Neuer                         Manuel Neuer   28  1986-03-27   \n",
       "\n",
       "   height_cm  weight_kg  nationality                 club  ...   lwb   ldm  \\\n",
       "0        169         67    Argentina         FC Barcelona  ...  62+3  62+3   \n",
       "1        185         80     Portugal          Real Madrid  ...  63+3  63+3   \n",
       "2        180         80  Netherlands    FC Bayern München  ...  64+3  64+3   \n",
       "3        195         95       Sweden  Paris Saint-Germain  ...  61+3  65+3   \n",
       "4        193         92      Germany    FC Bayern München  ...   NaN   NaN   \n",
       "\n",
       "    cdm   rdm   rwb    lb   lcb    cb   rcb    rb  \n",
       "0  62+3  62+3  62+3  54+3  45+3  45+3  45+3  54+3  \n",
       "1  63+3  63+3  63+3  57+3  52+3  52+3  52+3  57+3  \n",
       "2  64+3  64+3  64+3  55+3  46+3  46+3  46+3  55+3  \n",
       "3  65+3  65+3  61+3  56+3  55+3  55+3  55+3  56+3  \n",
       "4   NaN   NaN   NaN   NaN   NaN   NaN   NaN   NaN  \n",
       "\n",
       "[5 rows x 104 columns]"
      ]
     },
     "execution_count": 289,
     "metadata": {},
     "output_type": "execute_result"
    }
   ],
   "source": [
    "fifa15 = pd.read_csv(\"players_15.csv\")\n",
    "fifa16 = pd.read_csv(\"players_16.csv\")\n",
    "fifa17 = pd.read_csv(\"players_17.csv\")\n",
    "fifa18 = pd.read_csv(\"players_18.csv\")\n",
    "fifa19 = pd.read_csv(\"players_19.csv\")\n",
    "\n",
    "fifa15.head()"
   ]
  },
  {
   "cell_type": "markdown",
   "metadata": {},
   "source": [
    "Above we have an example of the data from 2015 (all the data from the datasets we want are uniform, so not too much to worry about there). It can be seen that there is a lot of information, most of it is data that we don't need. The most important data is the name of the player, their age, club, overall rating, and rating for each skill.\n",
    "\n",
    "The following code filters that information and then further makes sure to remove the changes that have occurred. For example, if a player started with an 80 in passing but improved over the course of that year/season, FIFA would update their ranking by adding +1. So the data reflects this by stating that their passing rating is 80+1. This isn't convenient for our data, so the following code helps make 80+1 simply 81."
   ]
  },
  {
   "cell_type": "code",
   "execution_count": null,
   "metadata": {
    "scrolled": false
   },
   "outputs": [],
   "source": [
    "fifa15 = fifa15.filter([\"short_name\",\"age\",\"club\",\"overall\",\"player_positions\",\"attacking_crossing\",\n",
    "                         \"attacking_finishing\",\"attacking_heading_accuracy\",\"attacking_short_passing\",\n",
    "                         \"attacking_volleys\",\"skill_dribbling\",\"skill_curve\",\"skill_fk_accuracy\",\n",
    "                         \"skill_long_passing\",\"skill_ball_control\",\"movement_acceleration\",\"movement_sprint_speed\",\n",
    "                         \"movement_agility\",\"movement_reactions\",\"movement_balance\",\"power_shot_power\",\n",
    "                         \"power_jumping\",\"power_stamina\",\"power_strength\",\"power_long_shots\",\"mentality_aggression\",\n",
    "                         \"mentality_interceptions\",\"mentality_positioning\",\"mentality_vision\",\"mentality_penalties\",\n",
    "                         \"mentality_composure\",\"defending_marking\",\"defending_standing_tackle\",\n",
    "                         \"defending_sliding_tackle\",\"goalkeeping_diving\",\"goalkeeping_handling\",\"goalkeeping_kicking\"\n",
    "                         ,\"goalkeeping_positioning\",\"goalkeeping_reflexes\"])\n",
    "fifa16 = fifa16.filter([\"short_name\",\"age\",\"club\",\"overall\",\"player_positions\",\"attacking_crossing\",\n",
    "                         \"attacking_finishing\",\"attacking_heading_accuracy\",\"attacking_short_passing\",\n",
    "                         \"attacking_volleys\",\"skill_dribbling\",\"skill_curve\",\"skill_fk_accuracy\",\n",
    "                         \"skill_long_passing\",\"skill_ball_control\",\"movement_acceleration\",\"movement_sprint_speed\",\n",
    "                         \"movement_agility\",\"movement_reactions\",\"movement_balance\",\"power_shot_power\",\n",
    "                         \"power_jumping\",\"power_stamina\",\"power_strength\",\"power_long_shots\",\"mentality_aggression\",\n",
    "                         \"mentality_interceptions\",\"mentality_positioning\",\"mentality_vision\",\"mentality_penalties\",\n",
    "                         \"mentality_composure\",\"defending_marking\",\"defending_standing_tackle\",\n",
    "                         \"defending_sliding_tackle\",\"goalkeeping_diving\",\"goalkeeping_handling\",\"goalkeeping_kicking\"\n",
    "                         ,\"goalkeeping_positioning\",\"goalkeeping_reflexes\"])\n",
    "fifa17 = fifa17.filter([\"short_name\",\"age\",\"club\",\"overall\",\"player_positions\",\"attacking_crossing\",\n",
    "                         \"attacking_finishing\",\"attacking_heading_accuracy\",\"attacking_short_passing\",\n",
    "                         \"attacking_volleys\",\"skill_dribbling\",\"skill_curve\",\"skill_fk_accuracy\",\n",
    "                         \"skill_long_passing\",\"skill_ball_control\",\"movement_acceleration\",\"movement_sprint_speed\",\n",
    "                         \"movement_agility\",\"movement_reactions\",\"movement_balance\",\"power_shot_power\",\n",
    "                         \"power_jumping\",\"power_stamina\",\"power_strength\",\"power_long_shots\",\"mentality_aggression\",\n",
    "                         \"mentality_interceptions\",\"mentality_positioning\",\"mentality_vision\",\"mentality_penalties\",\n",
    "                         \"mentality_composure\",\"defending_marking\",\"defending_standing_tackle\",\n",
    "                         \"defending_sliding_tackle\",\"goalkeeping_diving\",\"goalkeeping_handling\",\"goalkeeping_kicking\"\n",
    "                         ,\"goalkeeping_positioning\",\"goalkeeping_reflexes\"])\n",
    "fifa18 = fifa18.filter([\"short_name\",\"age\",\"club\",\"overall\",\"player_positions\",\"attacking_crossing\",\n",
    "                         \"attacking_finishing\",\"attacking_heading_accuracy\",\"attacking_short_passing\",\n",
    "                         \"attacking_volleys\",\"skill_dribbling\",\"skill_curve\",\"skill_fk_accuracy\",\n",
    "                         \"skill_long_passing\",\"skill_ball_control\",\"movement_acceleration\",\"movement_sprint_speed\",\n",
    "                         \"movement_agility\",\"movement_reactions\",\"movement_balance\",\"power_shot_power\",\n",
    "                         \"power_jumping\",\"power_stamina\",\"power_strength\",\"power_long_shots\",\"mentality_aggression\",\n",
    "                         \"mentality_interceptions\",\"mentality_positioning\",\"mentality_vision\",\"mentality_penalties\",\n",
    "                         \"mentality_composure\",\"defending_marking\",\"defending_standing_tackle\",\n",
    "                         \"defending_sliding_tackle\",\"goalkeeping_diving\",\"goalkeeping_handling\",\"goalkeeping_kicking\"\n",
    "                         ,\"goalkeeping_positioning\",\"goalkeeping_reflexes\"])\n",
    "fifa19 = fifa19.filter([\"short_name\",\"age\",\"club\",\"overall\",\"player_positions\",\"attacking_crossing\",\n",
    "                         \"attacking_finishing\",\"attacking_heading_accuracy\",\"attacking_short_passing\",\n",
    "                         \"attacking_volleys\",\"skill_dribbling\",\"skill_curve\",\"skill_fk_accuracy\",\n",
    "                         \"skill_long_passing\",\"skill_ball_control\",\"movement_acceleration\",\"movement_sprint_speed\",\n",
    "                         \"movement_agility\",\"movement_reactions\",\"movement_balance\",\"power_shot_power\",\n",
    "                         \"power_jumping\",\"power_stamina\",\"power_strength\",\"power_long_shots\",\"mentality_aggression\",\n",
    "                         \"mentality_interceptions\",\"mentality_positioning\",\"mentality_vision\",\"mentality_penalties\",\n",
    "                         \"mentality_composure\",\"defending_marking\",\"defending_standing_tackle\",\n",
    "                         \"defending_sliding_tackle\",\"goalkeeping_diving\",\"goalkeeping_handling\",\"goalkeeping_kicking\"\n",
    "                         ,\"goalkeeping_positioning\",\"goalkeeping_reflexes\"])\n",
    "\n",
    "def filtering(df):\n",
    "    for i, rows in df.iterrows():\n",
    "        if len(rows[4]) > 3:\n",
    "            df.at[i,df.columns[4]] = rows[4][0:rows[4].find(\",\")]\n",
    "        for j in range(5,len(rows)):\n",
    "            if type(rows[j]) == str and (rows[j].find(\"+\") != -1 or rows[j].find(\"-\") != -1) :\n",
    "                df.at[i,df.columns[j]] = str(eval(rows[j]))\n",
    "\n",
    "filtering(fifa15)\n",
    "filtering(fifa16)\n",
    "filtering(fifa17)\n",
    "filtering(fifa18)\n",
    "filtering(fifa19)\n",
    "\n",
    "fifa15.head()\n"
   ]
  },
  {
   "cell_type": "markdown",
   "metadata": {},
   "source": [
    "The above table is the final list of data that we want from each year's dataset. Although there are 39 different columns the data we need from each is fairly simple:\n",
    "- short_name - is simply the name of the player and in this case the identifier for each player (the primary key)\n",
    "- age - the player's age which will come in handy later when analyzing up and coming players\n",
    "- club - the club the player plays for which can be used to identify the league and country the player plays in\n",
    "- overall - the overall rating the player was given by FIFA that year. 99 being the highest and best score\n",
    "- player_positions - the primary position the player plays. We'll go over these in a bit\n",
    "- skills - the rest of the columns are the ratings of different soccer skills from 0-99 with 99 being the best for each player\n"
   ]
  },
  {
   "cell_type": "code",
   "execution_count": null,
   "metadata": {
    "scrolled": true
   },
   "outputs": [],
   "source": [
    "fifa20 = pd.read_csv(\"players_20.csv\")\n",
    "\n",
    "fifa20 = (fifa20.filter([\"short_name\",\"age\",\"club\",\"overall\",\"player_positions\",\"attacking_crossing\",\n",
    "                         \"attacking_finishing\",\"attacking_heading_accuracy\",\"attacking_short_passing\",\n",
    "                         \"attacking_volleys\",\"skill_dribbling\",\"skill_curve\",\"skill_fk_accuracy\",\n",
    "                         \"skill_long_passing\",\"skill_ball_control\",\"movement_acceleration\",\"movement_sprint_speed\",\n",
    "                         \"movement_agility\",\"movement_reactions\",\"movement_balance\",\"power_shot_power\",\n",
    "                         \"power_jumping\",\"power_stamina\",\"power_strength\",\"power_long_shots\",\"mentality_aggression\",\n",
    "                         \"mentality_interceptions\",\"mentality_positioning\",\"mentality_vision\",\"mentality_penalties\",\n",
    "                         \"mentality_composure\",\"defending_marking\",\"defending_standing_tackle\",\n",
    "                         \"defending_sliding_tackle\",\"goalkeeping_diving\",\"goalkeeping_handling\",\"goalkeeping_kicking\"\n",
    "                         ,\"goalkeeping_positioning\",\"goalkeeping_reflexes\"]))\n",
    "\n",
    "\n",
    "filtering(fifa20)\n",
    "\n",
    "fifa20.head()"
   ]
  },
  {
   "cell_type": "markdown",
   "metadata": {},
   "source": [
    "This table is the previous processing and tidying bundled up neatly. It also displays the final table that we will be comparing to, the FIFA 20 data that is currently still being updated week by week by FIFA."
   ]
  },
  {
   "cell_type": "markdown",
   "metadata": {},
   "source": [
    "### Data Processing and Tidying"
   ]
  },
  {
   "cell_type": "markdown",
   "metadata": {},
   "source": [
    "Although we've done some processing and tidying, the following processing and tidying is splitting the current data we have up so that we can create a more accurate model later with a lot less random variables to account for."
   ]
  },
  {
   "cell_type": "markdown",
   "metadata": {},
   "source": [
    "#### Standardizing the Data"
   ]
  },
  {
   "cell_type": "markdown",
   "metadata": {},
   "source": [
    "With all the various skills that are listed in FIFA, it would seem impossible that any one player would be a master in all and that is correct. What FIFA actually does to assess a player's overall rating is to assess what FIFA has deemed the necessary skills for the player's position. FIFA assigns different skills to different positions and then also weighs the skills in importance to create the player's final overall rating. In order to assess the overall rating correctly between the years and to create a standard, I will be reevaluating previous years from 2015-2018 which used a different calculation for the overall rating from 2019 and 2020 with the standard used in 2019 and 2020. Many people have experimented with player values to find the exact coefficients which is more explained <a href = \"https://www.fifauteam.com/player-ratings-guide-fifa-19/\"> here</a>. But these are the standards that will be used.\n",
    "\n",
    "As a few examples:\n",
    "<table>\n",
    "<tr>\n",
    "<td><img src = \"coef1.png\" style=\"height: 300px;\"/></td>        <td><img src = \"coef2.png\" style=\"height: 300px;\"/></td>\n",
    "</tr>\n",
    "</table>"
   ]
  },
  {
   "cell_type": "code",
   "execution_count": null,
   "metadata": {},
   "outputs": [],
   "source": [
    "def SortPositions(df):\n",
    "    for i, rows in df.iterrows():\n",
    "        if rows[\"player_positions\"] == \"GK\":\n",
    "            df.at[i,df.columns[3]] = (float(rows[\"goalkeeping_diving\"]) * .24 + float(rows[\"goalkeeping_handling\"]) * \n",
    "                                      .22 + float(rows[\"goalkeeping_positioning\"]) * .22 +\n",
    "                                      float(rows[\"goalkeeping_reflexes\"]) * .22 + float(rows[\"movement_reactions\"]) \n",
    "                                      * .06 + float(rows[\"goalkeeping_kicking\"]) * .04)\n",
    "        elif rows[\"player_positions\"] == \"CB\":\n",
    "            df.at[i,df.columns[3]] = (float(rows[\"defending_marking\"]) * .15 + float(rows[\"defending_standing_tackle\"]) * .15 + \n",
    "                                      float(rows[\"defending_sliding_tackle\"]) * .15 + \n",
    "                                      float(rows[\"attacking_heading_accuracy\"]) * .1 + float(rows[\"power_strength\"]) \n",
    "                                      * .1 + float(rows[\"mentality_aggression\"]) * .08 + \n",
    "                                      float(rows[\"mentality_interceptions\"]) * .08 + \n",
    "                                      float(rows[\"attacking_short_passing\"]) * .05 +\n",
    "                                      float(rows[\"movement_reactions\"]) * .05 + float(rows[\"power_jumping\"]) * .04 +\n",
    "                                      float(rows[\"skill_ball_control\"])* .05)\n",
    "        elif rows[\"player_positions\"] == \"RB\" or rows[\"player_positions\"] == \"LB\":\n",
    "            df.at[i,df.columns[3]] = (float(rows[\"defending_marking\"]) * .10 + float(rows[\"defending_standing_tackle\"])\n",
    "                                      * .12 + float(rows[\"defending_sliding_tackle\"]) * .13 + \n",
    "                                      float(rows[\"attacking_heading_accuracy\"]) * .07 + float(rows[\"power_stamina\"]) \n",
    "                                      * .08 + float(rows[\"mentality_aggression\"]) * .05 + \n",
    "                                      float(rows[\"attacking_crossing\"]) * .07 + float(rows[\"mentality_interceptions\"])\n",
    "                                      * .12 + float(rows[\"attacking_short_passing\"]) * .06 + \n",
    "                                      float(rows[\"movement_sprint_speed\"]) * .05 + float(rows[\"movement_reactions\"]) \n",
    "                                      * .08 + float(rows[\"skill_ball_control\"])* .07)\n",
    "        elif rows[\"player_positions\"] == \"RWB\" or rows[\"player_positions\"] == \"LWB\":\n",
    "            df.at[i,df.columns[3]] = (float(rows[\"defending_marking\"]) * .09 + \n",
    "                                      float(rows[\"defending_standing_tackle\"]) * .11 + \n",
    "                                      float(rows[\"defending_sliding_tackle\"]) * .10 + float(rows[\"power_stamina\"]) * \n",
    "                                      .08 + float(rows[\"attacking_crossing\"]) * .10 + float(rows[\"skill_dribbling\"]) \n",
    "                                      * .07 + float(rows[\"movement_agility\"]) * .03 + \n",
    "                                      float(rows[\"mentality_interceptions\"]) * .10 + \n",
    "                                      float(rows[\"attacking_short_passing\"]) * .10 + \n",
    "                                      float(rows[\"movement_sprint_speed\"]) * .04 + float(rows[\"movement_reactions\"]) \n",
    "                                      * .08 + float(rows[\"skill_ball_control\"])* .10)\n",
    "        elif rows[\"player_positions\"] == \"CM\":\n",
    "            df.at[i,df.columns[3]] = (float(rows[\"skill_long_passing\"]) * .13 + float(rows[\"power_stamina\"]) * .06 + \n",
    "                                      float(rows[\"mentality_vision\"]) * .12 + float(rows[\"power_long_shots\"]) * .05 + \n",
    "                                      float(rows[\"skill_dribbling\"]) * .09 + float(rows[\"defending_standing_tackle\"]) \n",
    "                                      * .06 + float(rows[\"mentality_interceptions\"]) * .08 + \n",
    "                                      float(rows[\"attacking_short_passing\"]) * .15 + float(rows[\"movement_reactions\"])\n",
    "                                      * .08 + float(rows[\"mentality_positioning\"]) * .08 + \n",
    "                                      float(rows[\"skill_ball_control\"])* .10)\n",
    "        elif rows[\"player_positions\"] == \"CDM\":\n",
    "            df.at[i,df.columns[3]] = (float(rows[\"skill_long_passing\"]) * .11 + float(rows[\"power_stamina\"]) * .06 + \n",
    "                                      float(rows[\"defending_marking\"]) * .10 + float(rows[\"power_strength\"]) * .06 + \n",
    "                                      float(rows[\"defending_standing_tackle\"]) * .10 + \n",
    "                                      float(rows[\"mentality_interceptions\"]) * .12 + \n",
    "                                      float(rows[\"attacking_short_passing\"]) * .13 + float(rows[\"mentality_vision\"]) \n",
    "                                      * .08 + float(rows[\"movement_reactions\"]) * .09 + \n",
    "                                      float(rows[\"mentality_aggression\"]) * .05 + float(rows[\"skill_ball_control\"])* \n",
    "                                      .09)\n",
    "        elif rows[\"player_positions\"] == \"CAM\":\n",
    "            df.at[i,df.columns[3]] = (float(rows[\"movement_agility\"]) * .04 + float(rows[\"movement_acceleration\"]) * \n",
    "                                      .04 + float(rows[\"mentality_vision\"]) * .16 + float(rows[\"power_long_shots\"]) * \n",
    "                                      .06 + float(rows[\"skill_dribbling\"]) * .11 + float(rows[\"attacking_finishing\"]) \n",
    "                                      * .05 + float(rows[\"attacking_short_passing\"]) * .16 + \n",
    "                                      float(rows[\"power_shot_power\"]) * .05 + float(rows[\"movement_reactions\"]) * .08 \n",
    "                                      + float(rows[\"mentality_positioning\"]) * .12 + float(rows[\"skill_ball_control\"])\n",
    "                                      * .13)\n",
    "        elif rows[\"player_positions\"] == \"RM\" or rows[\"player_positions\"] == \"LM\":\n",
    "            df.at[i,df.columns[3]] = (float(rows[\"movement_agility\"]) * .03 + float(rows[\"movement_acceleration\"]) * \n",
    "                                      .05 + float(rows[\"mentality_vision\"]) * .08 + float(rows[\"skill_long_passing\"]) \n",
    "                                      * .08 + float(rows[\"skill_dribbling\"]) * .14 + float(rows[\"power_stamina\"]) * \n",
    "                                      .05 + float(rows[\"attacking_crossing\"]) * .14 + \n",
    "                                      float(rows[\"attacking_short_passing\"]) * .12 + \n",
    "                                      float(rows[\"movement_sprint_speed\"]) * .05 + float(rows[\"movement_reactions\"]) \n",
    "                                      * .07 + float(rows[\"mentality_positioning\"]) * .07 + \n",
    "                                      float(rows[\"skill_ball_control\"])* .12)\n",
    "        elif rows[\"player_positions\"] == \"RW\" or rows[\"player_positions\"] == \"LW\":\n",
    "            df.at[i,df.columns[3]] = (float(rows[\"power_shot_power\"]) * .10 + float(rows[\"movement_acceleration\"]) * \n",
    "                                      .04 + float(rows[\"mentality_vision\"]) * .05 + float(rows[\"power_long_shots\"]) * \n",
    "                                      .10 + float(rows[\"skill_dribbling\"]) * .11 + \n",
    "                                      float(rows[\"attacking_heading_accuracy\"]) * .05 + \n",
    "                                      float(rows[\"attacking_crossing\"]) * .16 + \n",
    "                                      float(rows[\"attacking_short_passing\"]) * .06 + \n",
    "                                      float(rows[\"movement_sprint_speed\"]) * .04 + float(rows[\"movement_reactions\"]) \n",
    "                                      * .10 + float(rows[\"mentality_positioning\"]) * .12 + \n",
    "                                      float(rows[\"skill_ball_control\"])* .11)\n",
    "        elif rows[\"player_positions\"] == \"RF\" or rows[\"player_positions\"] == \"CF\" or rows[\"player_positions\"] == \"LF\":\n",
    "            df.at[i,df.columns[3]] = (float(rows[\"power_shot_power\"]) * .10 + float(rows[\"movement_acceleration\"]) * \n",
    "                                      .04 + float(rows[\"mentality_vision\"]) * .05 + float(rows[\"power_long_shots\"]) * \n",
    "                                      .10 + float(rows[\"skill_dribbling\"]) * .11 + \n",
    "                                      float(rows[\"attacking_heading_accuracy\"]) * .05 + \n",
    "                                      float(rows[\"attacking_finishing\"]) * .12 + \n",
    "                                      float(rows[\"attacking_short_passing\"]) * .06 + \n",
    "                                      float(rows[\"movement_sprint_speed\"]) * .04 + float(rows[\"movement_reactions\"]) \n",
    "                                      * .10 + float(rows[\"mentality_positioning\"]) * .12 + \n",
    "                                      float(rows[\"skill_ball_control\"])* .11)\n",
    "        elif rows[\"player_positions\"] == \"ST\":\n",
    "            df.at[i,df.columns[3]] = (float(rows[\"power_shot_power\"]) * .10 + float(rows[\"movement_acceleration\"]) * \n",
    "                                      .05 + float(rows[\"attacking_volleys\"]) * .05 + float(rows[\"power_long_shots\"]) \n",
    "                                      * .05 + float(rows[\"skill_dribbling\"]) * .08 + \n",
    "                                      float(rows[\"attacking_heading_accuracy\"]) * .10 + \n",
    "                                      float(rows[\"attacking_finishing\"]) * .20 + float(rows[\"power_strength\"]) * .03 \n",
    "                                      + float(rows[\"movement_sprint_speed\"]) * .04 + float(rows[\"movement_reactions\"]) * .10 + float(rows[\"mentality_positioning\"]) * .12 + float(rows[\"skill_ball_control\"])* .08)\n",
    "SortPositions(fifa15)\n",
    "SortPositions(fifa16)\n",
    "SortPositions(fifa17)\n",
    "SortPositions(fifa18)\n",
    "\n",
    "fifa15 = fifa15.sort_values(by=\"overall\",ascending = False)\n",
    "fifa16 = fifa16.sort_values(by=\"overall\",ascending = False)\n",
    "fifa17 = fifa17.sort_values(by=\"overall\",ascending = False)\n",
    "fifa18 = fifa18.sort_values(by=\"overall\",ascending = False)\n",
    "\n",
    "fifa15.head()"
   ]
  },
  {
   "cell_type": "markdown",
   "metadata": {},
   "source": [
    "#### Splitting By Roles"
   ]
  },
  {
   "cell_type": "markdown",
   "metadata": {},
   "source": [
    "In soccer there are different positions for each of the 11 players on the field. The following image does a good job in showing where on the field all the positions are (a quick guide is that L is left, C is center and R is right for positions. Then vertically you have GK as goalkeeper, B as back, M as midfielder, W as wing, and F as forward)\n",
    "\n",
    "<img src = \"positions2.jpg\" style=\"height: 300px;\">\n",
    "\n",
    "In this second image, it shows how each position is split (basically if it ends with a B it is a defensive player, M is a midfielder and W, F or ST is an attacker). This is how we are going to be splitting each position when we do our analysis as each position has different focuses. Although each position has different skills it needs to be successful, each type of player (defensive, midfielder, attacker, and goalkeeper) have enough in common with the other similar types of players that we won't split all the players into different lists.\n",
    "\n",
    "<img src = \"positions.jpg\" style=\"width: 500px;\">"
   ]
  },
  {
   "cell_type": "code",
   "execution_count": null,
   "metadata": {},
   "outputs": [],
   "source": [
    "attackers = pd.DataFrame(columns = fifa20.columns)\n",
    "midfielders = pd.DataFrame(columns = fifa20.columns)\n",
    "defenders = pd.DataFrame(columns = fifa20.columns)\n",
    "goalkeepers = pd.DataFrame(columns = fifa20.columns)\n",
    "\n",
    "def aggregation(df, name):\n",
    "    addDict = {}\n",
    "    for i in fifa20.columns:\n",
    "        five = fifa15.loc[fifa15['short_name'] == name]\n",
    "        six = fifa16.loc[fifa16['short_name'] == name]\n",
    "        seven = fifa17.loc[fifa17['short_name'] == name]\n",
    "        eight = fifa18.loc[fifa18['short_name'] == name]\n",
    "        nine = fifa19.loc[fifa19['short_name'] == name]\n",
    "        if i == \"short_name\":\n",
    "            addDict[i] = name\n",
    "        else:\n",
    "            addDict[i] = [list(five[i]),list(six[i]),list(seven[i]),list(eight[i]),list(nine[i])]\n",
    "    return addDict\n",
    "\n",
    "unique_players = list(fifa20[\"short_name\"])\n",
    "\n",
    "for x in range(0,100):\n",
    "    name = unique_players[x]\n",
    "    pos = fifa20.loc[fifa20['short_name'] == name][\"player_positions\"]\n",
    "    pos = list(pos)[0]\n",
    "    if pos == \"CF\" or pos == \"ST\" or pos == \"LW\" or pos == \"RW\":\n",
    "        attackers.append(aggregation(attackers,name),ignore_index=True)\n",
    "    elif pos == \"CAM\" or pos == \"CM\" or pos == \"CDM\" or pos == \"RM\" or pos == \"LM\":\n",
    "        aggregation(midfielders,name)\n",
    "    elif pos == \"LWB\" or pos == \"RWB\" or pos == \"LB\" or pos == \"RB\" or pos == \"CB\":\n",
    "        aggregation(defenders,name)\n",
    "    elif pos == \"GK\":\n",
    "        aggregation(goalkeepers,name)\n",
    "    print(attackers)\n",
    "        "
   ]
  },
  {
   "cell_type": "markdown",
   "metadata": {},
   "source": [
    "## Exploratory Data Analysis"
   ]
  },
  {
   "cell_type": "markdown",
   "metadata": {},
   "source": [
    "### Attackers Analysis"
   ]
  },
  {
   "cell_type": "markdown",
   "metadata": {},
   "source": [
    "#### Best Attackers"
   ]
  },
  {
   "cell_type": "code",
   "execution_count": null,
   "metadata": {},
   "outputs": [],
   "source": []
  },
  {
   "cell_type": "markdown",
   "metadata": {},
   "source": [
    "#### Best Attackers Under 21"
   ]
  },
  {
   "cell_type": "markdown",
   "metadata": {},
   "source": [
    "### Midfielders Analysis"
   ]
  },
  {
   "cell_type": "markdown",
   "metadata": {},
   "source": [
    "#### Best Midfielders"
   ]
  },
  {
   "cell_type": "markdown",
   "metadata": {},
   "source": [
    "#### Best Midfielders under 21"
   ]
  },
  {
   "cell_type": "markdown",
   "metadata": {},
   "source": [
    "### Defenders Analysis"
   ]
  },
  {
   "cell_type": "markdown",
   "metadata": {},
   "source": [
    "#### Best Defenders"
   ]
  },
  {
   "cell_type": "markdown",
   "metadata": {},
   "source": [
    "#### Best Defenders under 21"
   ]
  },
  {
   "cell_type": "markdown",
   "metadata": {},
   "source": [
    "### Goalkeepers Analysis"
   ]
  },
  {
   "cell_type": "markdown",
   "metadata": {},
   "source": [
    "#### Best Goalkeepers"
   ]
  },
  {
   "cell_type": "markdown",
   "metadata": {},
   "source": [
    "#### Best Goalkeepers under 21"
   ]
  },
  {
   "cell_type": "markdown",
   "metadata": {},
   "source": [
    "## Building the Data Model"
   ]
  },
  {
   "cell_type": "markdown",
   "metadata": {},
   "source": [
    "## Assessing the Validity of the Model"
   ]
  },
  {
   "cell_type": "markdown",
   "metadata": {},
   "source": [
    "## Conclusion"
   ]
  }
 ],
 "metadata": {
  "kernelspec": {
   "display_name": "Python 3",
   "language": "python",
   "name": "python3"
  },
  "language_info": {
   "codemirror_mode": {
    "name": "ipython",
    "version": 3
   },
   "file_extension": ".py",
   "mimetype": "text/x-python",
   "name": "python",
   "nbconvert_exporter": "python",
   "pygments_lexer": "ipython3",
   "version": "3.7.4"
  }
 },
 "nbformat": 4,
 "nbformat_minor": 2
}
